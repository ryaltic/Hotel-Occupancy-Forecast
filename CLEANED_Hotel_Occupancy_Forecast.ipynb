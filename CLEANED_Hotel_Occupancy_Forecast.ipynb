{
 "cells": [
  {
   "cell_type": "markdown",
   "metadata": {
    "id": "fVWMBhUwT7xf"
   },
   "source": [
    "# Packages"
   ]
  },
  {
   "cell_type": "code",
   "execution_count": null,
   "metadata": {
    "colab": {
     "base_uri": "https://localhost:8080/"
    },
    "collapsed": true,
    "id": "7ICUDT-v8_--",
    "outputId": "a613a5bc-29b6-48ca-aec4-053920855a84"
   },
   "outputs": [],
   "source": [
    "!pip install utilsforecast coreforecast nixtla statsforecast mlforecast neuralforecast\n",
    "\n",
    "import pandas as pd\n",
    "import seaborn as sns\n",
    "import matplotlib.pyplot as plt\n",
    "\n",
    "from nixtla import NixtlaClient\n",
    "\n",
    "from statsforecast import StatsForecast\n",
    "from statsforecast.models import Naive, SeasonalNaive, AutoETS, AutoARIMA\n",
    "\n",
    "from mlforecast import MLForecast\n",
    "import xgboost as xgb\n",
    "\n",
    "from neuralforecast import NeuralForecast\n",
    "from neuralforecast.auto import AutoNBEATS, AutoNHITS\n",
    "\n",
    "from utilsforecast.evaluation import evaluate\n",
    "from utilsforecast.losses import rmse, mae, bias\n",
    "from utilsforecast.plotting import plot_series\n",
    "\n",
    "\n",
    "nixtla_client = NixtlaClient(\n",
    "    api_key= 'nixak-GU4ctXFWmKUcZV3FNQzQkmYAzF5mvytXBSTcY5B8HHTQUdFyC8IevzsadaebAIDUhgUCRxPRwnCzs0LB'\n",
    ")"
   ]
  },
  {
   "cell_type": "markdown",
   "metadata": {
    "id": "7loHQ3R3VzmL"
   },
   "source": [
    "# Read in the Data"
   ]
  },
  {
   "cell_type": "code",
   "execution_count": null,
   "metadata": {
    "colab": {
     "base_uri": "https://localhost:8080/",
     "height": 1000
    },
    "id": "EYqPbfamhubQ",
    "outputId": "f201ea0a-8a90-41fc-e0ee-28ed03db8c9f"
   },
   "outputs": [],
   "source": [
    "\n",
    "df = (\n",
    "    pd.read_parquet('https://raw.githubusercontent.com/ryaltic/Hotel-Occupancy-Forecast/main/sample_hotels.parquet')\n",
    ")\n",
    "\n",
    "otb_df = df.iloc[:, 36:]\n",
    "otb_df\n",
    "\n",
    "\n",
    "df = (\n",
    "    df\n",
    "  [['unique_id', 'ds','holiday_flag','target_day','target_month','target_year','location_type','hotel_type','y']]\n",
    ")\n",
    "df\n",
    "\n",
    "\n",
    "df = pd.concat([df, otb_df], axis=1)\n",
    "df\n",
    "\n",
    "df = pd.get_dummies(df, columns=['holiday_flag', 'target_day','target_month','location_type','hotel_type'], drop_first=True)\n",
    "display(df.head())\n",
    "display(df.tail())\n",
    "df.info()"
   ]
  },
  {
   "cell_type": "code",
   "execution_count": null,
   "metadata": {
    "colab": {
     "base_uri": "https://localhost:8080/",
     "height": 733
    },
    "id": "FHA4GNNNazGs",
    "outputId": "b013d9ce-e0b6-4e6e-e444-e248980b4f61"
   },
   "outputs": [],
   "source": [
    "fig = sns.relplot(\n",
    "  data=df, x='ds', y='y', kind='line', legend=False, hue='unique_id', col='unique_id', height=4, aspect=2,\n",
    "  palette='Paired', col_wrap=5,  facet_kws={'sharey': False, 'sharex': False}\n",
    ")"
   ]
  },
  {
   "cell_type": "markdown",
   "metadata": {
    "id": "_Mw4Z4SAa1Kf"
   },
   "source": [
    "Removing hotel 77 and hotel 28 as the data is incomplete for those hotels"
   ]
  },
  {
   "cell_type": "code",
   "execution_count": null,
   "metadata": {
    "id": "la2WblpGa01h"
   },
   "outputs": [],
   "source": [
    "df = df.query(\"unique_id != 'hotel_77' and unique_id != 'hotel_28'\")\n"
   ]
  },
  {
   "cell_type": "markdown",
   "metadata": {
    "id": "zsxVqBqcmmPl"
   },
   "source": [
    "Updated figure plot without hotel 77 and hotel 28"
   ]
  },
  {
   "cell_type": "code",
   "execution_count": null,
   "metadata": {
    "colab": {
     "base_uri": "https://localhost:8080/",
     "height": 733
    },
    "id": "ZiJ_4cKAmspo",
    "outputId": "520e9f92-6e98-49e1-99c7-daf32b658559"
   },
   "outputs": [],
   "source": [
    "fig = sns.relplot(\n",
    "  data=df, x='ds', y='y', kind='line', legend=False, hue='unique_id', col='unique_id', height=4, aspect=2,\n",
    "  palette='Paired', col_wrap=5,  facet_kws={'sharey': False, 'sharex': False}\n",
    ")"
   ]
  },
  {
   "cell_type": "code",
   "execution_count": null,
   "metadata": {
    "id": "qJGcwxS4YTV2"
   },
   "outputs": [],
   "source": [
    "train_df = df.query(\"ds < '2023-06-01'\")\n",
    "test_df = df.query(\"ds >= '2023-06-01'\")\n",
    "test_df =(\n",
    "    test_df\n",
    "    .query(\"ds <= '2023-06-28'\")\n",
    "    )"
   ]
  },
  {
   "cell_type": "markdown",
   "metadata": {
    "id": "dHdtIM63jvR1"
   },
   "source": [
    "# Models"
   ]
  },
  {
   "cell_type": "markdown",
   "metadata": {
    "id": "ci11LDk-jzSe"
   },
   "source": [
    "## Baseline Models"
   ]
  },
  {
   "cell_type": "code",
   "execution_count": null,
   "metadata": {
    "id": "A98kLEmWjyE7"
   },
   "outputs": [],
   "source": [
    "baseline_models = [Naive(),\n",
    "                   SeasonalNaive(season_length=7),\n",
    "                   AutoETS()]\n",
    "\n",
    "sf_base = StatsForecast(\n",
    "    models = baseline_models,\n",
    "    freq = 'D',\n",
    "    n_jobs = -1\n",
    "    )\n",
    "\n",
    "cross_validation_base = sf_base.cross_validation(\n",
    "    h=28,\n",
    "    df = df[['unique_id','ds','y']].query(\"ds < '2023-06-01'\"),\n",
    "    step_size = 28,\n",
    "    n_windows = 5\n",
    ")\n",
    "\n",
    "eval_base = evaluate(cross_validation_base, metrics=[rmse, mae, bias], models=['Naive', 'SeasonalNaive', 'AutoETS'])\n",
    "eval_base\n",
    "eval_base.to_csv('eval_base.csv', index=False)"
   ]
  },
  {
   "cell_type": "markdown",
   "metadata": {
    "id": "Q7w0chyiont1"
   },
   "source": [
    "## AutoARIMA with Predictors"
   ]
  },
  {
   "cell_type": "code",
   "execution_count": null,
   "metadata": {
    "id": "-qdgjKwWntb0"
   },
   "outputs": [],
   "source": [
    "autoarima_pred = [AutoARIMA()]\n",
    "\n",
    "sf_arima_pred = StatsForecast(\n",
    "    models=autoarima_pred,\n",
    "    freq=\"D\",\n",
    "    n_jobs=-1,\n",
    ")\n",
    "\n",
    "cross_validation_arima_pred = sf_arima_pred.cross_validation(\n",
    "    h = 28,\n",
    "    df = df.query(\"ds < '2023-06-01'\"),\n",
    "    step_size=28,\n",
    "    n_windows = 5\n",
    ")\n",
    "\n",
    "eval_autoarima_pred = evaluate(cross_validation_arima_pred, metrics=[bias,rmse,mae], models=['AutoARIMA'])\n",
    "eval_autoarima_pred\n",
    "eval_autoarima_pred.to_csv('eval_autoarima_pred.csv', index=False)"
   ]
  },
  {
   "cell_type": "markdown",
   "metadata": {
    "id": "fB55BiUtsQit"
   },
   "source": [
    "## XGB model"
   ]
  },
  {
   "cell_type": "code",
   "execution_count": null,
   "metadata": {
    "colab": {
     "base_uri": "https://localhost:8080/",
     "height": 1000
    },
    "id": "qZ2iwcUurNhD",
    "outputId": "09a1b325-c497-4897-d6be-bfeb9027e984"
   },
   "outputs": [],
   "source": [
    "xgb_model = {'xgb' : xgb.XGBRegressor(objective='reg:squarederror', n_estimators=100, learning_rate=0.1)}\n",
    "\n",
    "mlf = MLForecast(\n",
    "    models = xgb_model,\n",
    "    freq = 'D'\n",
    ")\n",
    "df = df.query(\"unique_id != 'hotel_77' and unique_id != 'hotel_28'\")\n",
    "cross_validation_mlf = mlf.cross_validation(\n",
    "    n_windows = 5,\n",
    "    step_size=28,\n",
    "    h = 28,\n",
    "    static_features=[],\n",
    "    df = df.query(\"ds < '2023-06-01'\")\n",
    "    )\n",
    "\n",
    "display(cross_validation_mlf)\n",
    "\n",
    "eval_ml = evaluate(\n",
    "    df = cross_validation_mlf,\n",
    "    metrics = [bias, rmse, mae],\n",
    "    models = ['xgb']\n",
    ")\n",
    "\n",
    "display(eval_ml)\n",
    "eval_ml.to_csv('eval_ml.csv', index=False)"
   ]
  },
  {
   "cell_type": "markdown",
   "metadata": {
    "id": "Au1gG--7w9U4"
   },
   "source": [
    "## TimeGPT"
   ]
  },
  {
   "cell_type": "code",
   "execution_count": null,
   "metadata": {
    "colab": {
     "base_uri": "https://localhost:8080/",
     "height": 1000
    },
    "id": "BTvNuVpjw8yH",
    "outputId": "99018afc-933b-405b-f5a4-cbd00f187db9"
   },
   "outputs": [],
   "source": [
    "timegpt_cv_df = nixtla_client.cross_validation(\n",
    "    df = df.query(\"ds < '2023-06-01'\"),\n",
    "    h=28,\n",
    "    freq = 'D',\n",
    "    n_windows= 5,\n",
    "    step_size = 28\n",
    " )\n",
    "\n",
    "display(timegpt_cv_df)\n",
    "\n",
    "timegpt_cv_eval = evaluate(\n",
    "    df = timegpt_cv_df,\n",
    "    metrics = [bias, mae, rmse],\n",
    "    models = ['TimeGPT']\n",
    ")\n",
    "display(timegpt_cv_eval)\n",
    "timegpt_cv_eval.to_csv('timegpt_cv_eval.csv', index=False)"
   ]
  },
  {
   "cell_type": "markdown",
   "metadata": {
    "id": "ygtnDADzxkD_"
   },
   "source": [
    "## Neural Models"
   ]
  },
  {
   "cell_type": "code",
   "execution_count": null,
   "metadata": {
    "colab": {
     "base_uri": "https://localhost:8080/",
     "height": 1000,
     "referenced_widgets": [
      "074286922a1444ca96f1383ccd49acf0",
      "a6aa462a512840a1a3074c4265a52f29",
      "5db0812705284048b64ebcb1215f4817",
      "720d7d2b27aa4ba8b77681eec989945a",
      "6bcbec5b4c9a4f6b807157191aeeeb6c",
      "25ba4e93744f406a8827776698f7b358",
      "11136dc823e946aab2f3f466d1ccab5d",
      "8624b30d95734801b9cfb1c1e1167569",
      "aa4fe315348c4085854ea2028da7d5eb",
      "937341fc5a0e484c84b28e6bf8d17089",
      "1cdb83bfa4374f9798774dff0f7f919c",
      "35d7f4a4f04e424fb8acb0073c24da5e",
      "c2bf1f9b180449acad9f9df1f5d5348a",
      "f1a92916c538485daf180985c42caaba",
      "9ad660bbfb5646c49795cbec2a7b5037",
      "4698d94b88104d8db96b968e08d969f2",
      "15cdfe6a490f4785863495b5cdf0b79a",
      "df8d8ae57be444dd90149d285c4df5b7",
      "eb940a1b0ee14d9faa9f458b80bbb53d",
      "b10b247e72264f22ad967249bf90f2ff",
      "56d0f464ec5c46c889fb0abb23ad2633",
      "72d02ca86a0042dc92b7cf3c0252adce",
      "6b5aab144968474a97ad375477b8cca1",
      "1fbb8c973edb4025aebe88ce9d824d67",
      "df0cfb587c3245869f93adc75abb3c60",
      "7c89851639ce457eb9b6418f4c2dcbbd",
      "d87c23f1c9ec4cec86a7e199a6c87b1f",
      "4fe3086f32a34be6907fb0ac348b0d21",
      "4946653f3d454361a7d597b1fcd870dd",
      "4c5df1cdead745ce971bdc9e785f0124",
      "95fd91567a6e418a8de257c8702b9b2c",
      "a7500c7c02ff47bfb67e8a3e6b5c3277",
      "0ab69e9607b94ed899467ce27764ed80",
      "7e8b7a3c4c6d477eadd3c4c9c65d043f",
      "293ab525669744ea80befcc99ce00f13",
      "ba4c9f444d7b43b8a02e9b59e7f5d6ed",
      "a43444c7ea22448793eebfaf4b292e8e",
      "8573c064f2d245488208a86867567998",
      "835b59e493ce4af08aaf899747590d33",
      "4c047f8b588c4234895d6ac75f098bb1",
      "e31746108ae64abb89e3f52e210e3c7c",
      "b482f70d47534376a47d01edbd8ac6b4",
      "d4102ff6ad8b4e468366580b3b610a8c",
      "c408773fa23242bab55009362540bb60",
      "8e9c329b33b84af49e7b42b1762acf8f",
      "f35025dea5d6438e98a510fd457e9902",
      "12326147918342f784566293befa811f",
      "40dd7043a26f45039c269723e13ef38a",
      "d01ca409b67741f38c2f4a258d4f2b81",
      "617ce5a96c7a4c11be0225990c7b8661",
      "2362a28fe30241c6a09be5fc090dc3ab",
      "a48b5b3a2f894af19ee70aa7a9d0c81a",
      "baf239abf9c74415b29a58b147ed6204",
      "5bf08194ea4a445594037979e92d6b52",
      "29a8e0fc22ed460d9e9095d95657015a",
      "420032f740414a02b1bdb0723a44f4d5",
      "1adca29d44594c539658acbb4cf48f3a",
      "d890b2d7a3c743489b6d8dcf88dba728",
      "83ef5c768ab848ac9d06972b81be91c9",
      "691f117408a542f4a58411ccdd8baaad",
      "1aefee4cd3a44c41a4718b5db82c1046",
      "60f620593a1c4c34a24a2a7dd607dbf5",
      "2ba91adaf5a745ce9fb3f051fad91adb",
      "7fbd8217865141d28262f285051bc741",
      "0b2539bd632145c0b38b3061e8e1fca8",
      "1002e31b6657475a84faa0d91fcaa6a0",
      "2e2f0d75371442acbbd2f4c9c424f409",
      "56cf9aa6fbc54ee8bb5f22a0680b75ef",
      "7a3f7fcba9214304b2296625316e505f",
      "0ffd4cfdb0cc48f9bea77e4303402c55",
      "0203f1e1a1594e04987672c6168e58ba",
      "35842d0402104841941386c0565fcbcb",
      "5360af8b69e4401c9859831238e3b683",
      "bc06f1b8e2cc4164b833a7009a946133",
      "e5d33554cdc24c25a6c5a2191579564b",
      "ebe14922d1f6435cb909eb9e718cb188",
      "c75473d9cfd74402be4ac8acb2276a25",
      "38692f7813b1458bb267f7835392c431",
      "2a881c908e0f419ab5da84dc471a6c03",
      "be26faa3d6bb4215b68cede46149f099",
      "0d04a1a73850451bb8545ddc57be48c2",
      "4bc8adf7825542608780eff1d99334b2",
      "627d6d79cc764c798ca278b97886f6cd",
      "9f9d07d9caf948c8896792181293f8b9",
      "0ed199064cc64b2881ac0aaa47a708e9",
      "2ab7929d756e4a979176644c329a6376",
      "eb545de912f544a0995c1f71df3dd651",
      "8470e1d6d6e8423981d3bfa01827c096",
      "976647eedcf14fbcbd32d4ad1d82216d",
      "7ad109a890eb4251a23c74001f9a4dfb",
      "fd41404c0ecf43debb2907af00b12e2e",
      "5c2e6ea31f9a443c8aea41dcc21b4526",
      "294b173341be4bf385db54bd1cbd3857",
      "75ba2bebb6e0497a9366f7b57289e151",
      "92b3c201c3b44d18b9ffc0650c4c5368",
      "d0f747f3928e4e0d84370c4e95970205",
      "fcd2a014787b4e5cae9995b91d609b7d",
      "50a099efccf644f783201e4257d26c71",
      "c7bf830eff77459e9651b4abb3e9a228",
      "d148a79f77c64fd8a9a8cd2361cc85f7",
      "83812ad907954fe2800f81e2629569e8",
      "de69829e1411450492b982949c55e708",
      "285c6376318c420c8afb8ced0b153e8e",
      "fb823db781654674ad214cdfed3e9a04",
      "2912155d9edb4b7d9b1e75957d5de7cb",
      "6920e53321594d96859d5f2806135c33",
      "8bcda71b25d94e3389d02cab754a8f17",
      "97528e4c0b094bc79109925964c27971",
      "d2e792c2090a43cfa285a2ce2f5c179a",
      "452836d6ceac49dea2e97b35700a88fa",
      "5a15de94ae3846598ce1efe560bfcd4d",
      "6f25e12c490d4afe835e9400fbbdffd7",
      "03abe6c409d04c019d3dd920f0362286",
      "7c1265fc3d9046a9a9aec8ad356288d8",
      "d027b364295b4475a45b91de649ae0b5",
      "42a70ca256694069a7698a54f6a20e17",
      "20bc1f93afde4f4aaf4ae9dd1a8bbbf2",
      "d2bd4d7716d343e68b27b7614c417849",
      "aa6713ca62554e6d9ab0b3321b891504",
      "e8085c1f71dd48898a680724f8cf8f23",
      "d48bcbebfde34b61b83d6fe8bd10b725",
      "7b39492a68cc49328f111f2ca1e66084",
      "eee15c940e394822a3577311f34f303f",
      "771b45225d974376b62f0e4bb8a67055"
     ]
    },
    "collapsed": true,
    "id": "9LwbD4z_xr6c",
    "outputId": "3d9bab66-8821-4685-83b9-f500f8986a58"
   },
   "outputs": [],
   "source": [
    "Neural_models = [AutoNBEATS(h=28),\n",
    "                 AutoNHITS(h=28)]\n",
    "\n",
    "nf = NeuralForecast(\n",
    "    models = Neural_models,\n",
    "    freq = 'D'\n",
    ")\n",
    "\n",
    "\n",
    "cross_validation_nf = nf.cross_validation(\n",
    "    n_windows = 5,\n",
    "    step_size=28,\n",
    "    df = df.query(\"ds < '2023-06-01'\")\n",
    "    )\n",
    "\n",
    "display(cross_validation_nf)\n",
    "\n",
    "eval_nf = evaluate(\n",
    "    df = cross_validation_nf,\n",
    "    metrics = [bias, rmse, mae],\n",
    "    models = ['AutoNBEATS', 'AutoNHITS']\n",
    ")\n",
    "\n",
    "display(eval_nf)\n",
    "eval_nf.to_csv('eval_nf.csv', index=False)"
   ]
  },
  {
   "cell_type": "code",
   "execution_count": null,
   "metadata": {
    "colab": {
     "base_uri": "https://localhost:8080/",
     "height": 1000
    },
    "collapsed": true,
    "id": "LGS3-cRhzF6J",
    "outputId": "4309d061-b184-4389-b7b9-b359fd7a9b1b"
   },
   "outputs": [],
   "source": [
    "# make a final dataset with all the dataframe joined by unique_id and metric\n",
    "final_eval = pd.concat([eval_base, eval_autoarima_pred, eval_ml, timegpt_cv_eval, eval_nf], axis=0)\n",
    "final_eval_cleaned = (\n",
    "    final_eval\n",
    "    .groupby(['unique_id', 'metric'], as_index=False)\n",
    "    .first()\n",
    "    .reset_index(drop=True)\n",
    ")\n",
    "final_eval_cleaned.to_csv('final_eval.csv', index=False)\n",
    "display(final_eval_cleaned)\n"
   ]
  },
  {
   "cell_type": "code",
   "execution_count": null,
   "metadata": {
    "colab": {
     "base_uri": "https://localhost:8080/",
     "height": 1000
    },
    "id": "Tv3H-Wbdzbnk",
    "outputId": "55b09a7e-d003-4406-e6e9-3e868a2302f2"
   },
   "outputs": [],
   "source": [
    "##final_eval_cleaned = pd.read_csv('/content/final_eval.csv')\n",
    "display(final_eval_cleaned.query(\"metric == 'mae'\"))\n",
    "\n",
    "\n",
    "melted = final_eval_cleaned.melt(\n",
    "    id_vars=['unique_id', 'metric'],\n",
    "    var_name='model',\n",
    "    value_name='score'\n",
    ")\n",
    "\n",
    "melted_mae = melted[melted['metric'] == 'mae']\n",
    "\n",
    "\n",
    "best_models = (\n",
    "    melted_mae\n",
    "    .loc[melted_mae.groupby('unique_id')['score'].idxmin()]\n",
    "    .rename(columns={'model': 'best_model'})\n",
    ")\n",
    "display(best_models)\n",
    "\n",
    "\n",
    "best_overall_model = (\n",
    "    best_models\n",
    "    .groupby('best_model')\n",
    "    .agg(count=('best_model', 'count'))\n",
    "    .reset_index()\n",
    "    .sort_values(by='count', ascending=False)\n",
    ")\n",
    "display(best_overall_model)"
   ]
  },
  {
   "cell_type": "markdown",
   "metadata": {
    "id": "btebeLr-0IPt"
   },
   "source": [
    "# Forecast"
   ]
  },
  {
   "cell_type": "code",
   "execution_count": null,
   "metadata": {
    "colab": {
     "base_uri": "https://localhost:8080/",
     "height": 441
    },
    "id": "IZSwii-GSado",
    "outputId": "f89bb584-d054-44f6-d29e-f8d7a2a83315"
   },
   "outputs": [],
   "source": [
    "forecast_timegpt = nixtla_client.forecast(\n",
    "    df = df.query(\"ds < '2023-06-01'\"),\n",
    "    h=28,\n",
    "    freq = 'D',\n",
    "    finetune_loss = 'mae',\n",
    "    X_df= test_df.drop(columns=['y'])\n",
    ")\n",
    "\n",
    "display(forecast_timegpt)"
   ]
  },
  {
   "cell_type": "code",
   "execution_count": null,
   "metadata": {
    "colab": {
     "base_uri": "https://localhost:8080/",
     "height": 441
    },
    "id": "fqqb4PStUKsZ",
    "outputId": "732e70b1-7ab7-4e31-f192-d9e018c4fcfa"
   },
   "outputs": [],
   "source": [
    "holdout_with_actual = (\n",
    "    test_df[['unique_id','ds','y']]\n",
    "    .merge(forecast_timegpt, on=['unique_id', 'ds'], how='left')\n",
    "    .assign(mae = lambda x: (x['y']- x['TimeGPT']).abs() / x['y'])\n",
    ")\n",
    "\n",
    "display(holdout_with_actual)\n",
    "\n",
    "print(f\"Mae: {holdout_with_actual['mae'].mean():.2%}\")"
   ]
  },
  {
   "cell_type": "markdown",
   "metadata": {
    "id": "w46hypuB1PvQ"
   },
   "source": [
    "# Plot of Actuals vs Forecast"
   ]
  },
  {
   "cell_type": "code",
   "execution_count": null,
   "metadata": {
    "colab": {
     "base_uri": "https://localhost:8080/",
     "height": 1000
    },
    "id": "a7kEUoh_1PeE",
    "outputId": "a66070cb-5cf4-4543-edff-a57f309a27e0"
   },
   "outputs": [],
   "source": [
    "nixtla_client.plot(\n",
    "    df = df.query(\"ds >= '2023-01-01'\"),\n",
    "    forecasts_df = forecast_timegpt,\n",
    "    max_ids=17\n",
    ")"
   ]
  },
  {
   "cell_type": "markdown",
   "metadata": {
    "id": "UPycUBM-U4Ij"
   },
   "source": [
    "## Forecasting Best Model"
   ]
  },
  {
   "cell_type": "code",
   "execution_count": null,
   "metadata": {
    "colab": {
     "base_uri": "https://localhost:8080/",
     "height": 424
    },
    "id": "ZZ_ct4t4VvNd",
    "outputId": "e2eb1b45-3420-4b45-da79-8fb61e1d1478"
   },
   "outputs": [],
   "source": [
    "best_models_timegpt = (\n",
    "    forecast_timegpt\n",
    "    .query(\"unique_id == 'hotel_112' or unique_id == 'hotel_21' or unique_id == 'hotel_35' or unique_id == 'hotel_7' or unique_id == 'hotel_98' or unique_id == 'hotel_84'\")\n",
    "    .assign(best_model = 'TimeGPT')\n",
    ")\n",
    "\n",
    "best_models_timegpt"
   ]
  },
  {
   "cell_type": "code",
   "execution_count": null,
   "metadata": {
    "colab": {
     "base_uri": "https://localhost:8080/",
     "height": 830
    },
    "id": "84b_yY0LYsuO",
    "outputId": "d257c276-b243-44b6-d7f4-6c2ca4d7acb4"
   },
   "outputs": [],
   "source": [
    "mlf.fit(df=df.query(\"ds < '2023-06-01'\"), static_features = [])\n",
    "forecast_ml = mlf.predict(h=28, X_df= test_df.drop(columns=['y']))\n",
    "display(forecast_ml)\n",
    "\n",
    "best_models_ml = (\n",
    "    forecast_ml\n",
    "    .query(\"unique_id == 'hotel_0' or unique_id == 'hotel_133' or unique_id == 'hotel_42' or unique_id == 'hotel_91' or unique_id == 'hotel_63'\")\n",
    "    .assign(best_model = 'XGBoost')\n",
    ")\n",
    "\n",
    "best_models_ml\n"
   ]
  },
  {
   "cell_type": "code",
   "execution_count": null,
   "metadata": {
    "colab": {
     "base_uri": "https://localhost:8080/",
     "height": 830
    },
    "id": "osWFtm7tb_YJ",
    "outputId": "101b5a12-799d-42e7-a6a2-062944166db6"
   },
   "outputs": [],
   "source": [
    "sf_arima_pred.fit(df=df.query(\"ds < '2023-06-01'\"))\n",
    "forecast_arima = sf_arima_pred.predict(h=28, X_df= test_df.drop(columns=['y']))\n",
    "display(forecast_arima)\n",
    "forecast_arima.to_csv('forecast_arima.csv', index=False)\n",
    "best_models_arima = (\n",
    "    forecast_arima\n",
    "    .query(\"unique_id == 'hotel_105' or unique_id == 'hotel_14' or unique_id == 'hotel_70'\")\n",
    "    .assign(best_model = 'AutoARIMA')\n",
    ")\n",
    "\n",
    "best_models_arima"
   ]
  },
  {
   "cell_type": "code",
   "execution_count": null,
   "metadata": {
    "id": "P_RMbtfP1Fcf"
   },
   "outputs": [],
   "source": [
    "sf_base.fit(df=df.query(\"ds < '2023-06-01'\"))\n",
    "forecast_baseline= sf_base.predict(h=28)\n",
    "forecast_ETS = (\n",
    "    forecast_baseline\n",
    "    [['unique_id','ds','AutoETS']]\n",
    ")\n",
    "\n",
    "best_models_ETS = (\n",
    "    forecast_ETS\n",
    "    .query(\"unique_id == 'hotel_126'\")\n",
    "    .assign(best_model = 'AutoETS')\n",
    ")\n",
    "\n",
    "forecast_seasonalNaive = (\n",
    "    forecast_baseline\n",
    "    [['unique_id','ds','SeasonalNaive']]\n",
    ")\n",
    "\n",
    "best_models_seasonalNaive = (\n",
    "    forecast_seasonalNaive\n",
    "    .query(\"unique_id == 'hotel_56'\")\n",
    "    .assign(best_model = 'SeasonalNaive')\n",
    ")\n",
    "\n",
    "best_models_seasonalNaive"
   ]
  },
  {
   "cell_type": "code",
   "execution_count": null,
   "metadata": {
    "id": "4W2da_739r8f"
   },
   "outputs": [],
   "source": [
    "nf.fit(df=df.query(\"ds < '2023-06-01' and unique_id == 'hotel_49'\"))\n",
    "forecast_nf = nf.predict()\n",
    "\n",
    "display(forecast_nf)\n",
    "forecast_nf.to_csv('forecast_nf.csv', index=False)\n",
    "best_models_nf = (\n",
    "    forecast_nf\n",
    "    [['unique_id','ds','AutoNBEATS']]\n",
    "    .assign(best_model = 'AutoNBEATS')\n",
    ")\n",
    "\n",
    "best_models_nf"
   ]
  },
  {
   "cell_type": "code",
   "execution_count": null,
   "metadata": {
    "id": "RwcsFaOn5j27"
   },
   "outputs": [],
   "source": [
    "concat_df = pd.concat([best_models_timegpt, best_models_ml, best_models_arima, best_models_ETS, best_models_seasonalNaive, best_models_nf], axis=0)\n",
    "display(concat_df)\n",
    "concat_df.to_csv('final_best_models_rating.csv', index=False)"
   ]
  },
  {
   "cell_type": "code",
   "execution_count": null,
   "metadata": {
    "colab": {
     "base_uri": "https://localhost:8080/",
     "height": 1000
    },
    "id": "0ql9aa2E6q9D",
    "outputId": "5785c328-8eb6-4713-ff76-6d0e265bcb54"
   },
   "outputs": [],
   "source": [
    "plot_series(\n",
    "    df=df.query(\"ds > '2023-01-01'\"),\n",
    "    forecasts_df=concat_df,\n",
    "    max_ids=17,\n",
    "    palette='Paired',\n",
    "    models=['TimeGPT', 'xgb', 'AutoARIMA', 'AutoETS', 'SeasonalNaive', 'AutoNBEATS']\n",
    ")"
   ]
  }
 ],
 "metadata": {
  "accelerator": "GPU",
  "colab": {
   "gpuType": "T4",
   "provenance": []
  },
  "kernelspec": {
   "display_name": "Python 3",
   "name": "python3"
  },
  "language_info": {
   "name": "python"
  }
 },
 "nbformat": 4,
 "nbformat_minor": 0
}
